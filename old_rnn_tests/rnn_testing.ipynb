{
 "cells": [
  {
   "cell_type": "code",
   "execution_count": 1,
   "metadata": {},
   "outputs": [],
   "source": [
    "import numpy as np\n",
    "import matplotlib.pyplot as plt\n",
    "import torch\n",
    "import torch.nn as nn"
   ]
  },
  {
   "cell_type": "code",
   "execution_count": 2,
   "metadata": {},
   "outputs": [
    {
     "name": "stdout",
     "output_type": "stream",
     "text": [
      "torch.Size([1, 210, 32])\n"
     ]
    }
   ],
   "source": [
    "# Adjusting the model for the specific neural data task\n",
    "class NeuralRNN(nn.Module):\n",
    "    def __init__(self, input_size=32, hidden_size=64, num_layers=1, output_size=32):\n",
    "        super(NeuralRNN, self).__init__()\n",
    "        self.hidden_size = hidden_size\n",
    "        self.num_layers = num_layers\n",
    "        self.rnn = nn.RNN(input_size, hidden_size, num_layers, batch_first=True)\n",
    "        self.fc = nn.Linear(hidden_size, output_size)\n",
    "\n",
    "    def forward(self, x):\n",
    "        h0 = torch.zeros(self.num_layers, x.size(0), self.hidden_size).to(x.device)\n",
    "        out, _ = self.rnn(x, h0)\n",
    "        out = self.fc(out)  # Apply the linear layer to each time step\n",
    "        return out\n",
    "\n",
    "# Create an instance of the NeuralRNN\n",
    "neural_rnn = NeuralRNN()\n",
    "\n",
    "# Example input tensor for a single reach, shape (1, 210, 32)\n",
    "example_input = torch.randn(1, 210, 32)\n",
    "\n",
    "# Get the model output for the example input\n",
    "output = neural_rnn(example_input)\n",
    "print(output.shape)  # Should be (1, 210, 32) matching the target shape\n"
   ]
  },
  {
   "cell_type": "code",
   "execution_count": null,
   "metadata": {},
   "outputs": [],
   "source": []
  }
 ],
 "metadata": {
  "kernelspec": {
   "display_name": "cebra",
   "language": "python",
   "name": "python3"
  },
  "language_info": {
   "codemirror_mode": {
    "name": "ipython",
    "version": 3
   },
   "file_extension": ".py",
   "mimetype": "text/x-python",
   "name": "python",
   "nbconvert_exporter": "python",
   "pygments_lexer": "ipython3",
   "version": "3.8.19"
  }
 },
 "nbformat": 4,
 "nbformat_minor": 2
}
